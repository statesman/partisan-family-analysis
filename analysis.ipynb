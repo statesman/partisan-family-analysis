{
 "cells": [
  {
   "cell_type": "markdown",
   "metadata": {},
   "source": [
    "# Partisan family analysis\n",
    "\n",
    "The `process_county` function below groups voter registration records by last name, address and party to calculate \"split-voting families\". Please be mindful of the following definitions:\n",
    "\n",
    "`Family`: A combination of an address and a last name where multiple voters with the same last name registered at the same address voted in a March 2018 primary\n",
    "\n",
    "`Split-voting family`: `Family` where at least one member voted in the March 2018 Republican primary and at least one member voted in the Democratic primary\n",
    "\n",
    "`Split voting families percentage`: Number of `Split-voting families` divided by the number of `Families`"
   ]
  },
  {
   "cell_type": "code",
   "execution_count": 1,
   "metadata": {},
   "outputs": [],
   "source": [
    "import pandas as pd\n",
    "from IPython.display import display, HTML"
   ]
  },
  {
   "cell_type": "code",
   "execution_count": 2,
   "metadata": {},
   "outputs": [],
   "source": [
    "def process_county(df):\n",
    "    '''\n",
    "    Receives a data frame as input and displays tables for \n",
    "    '''\n",
    "    \n",
    "    # Initialize an array to display later\n",
    "    data_to_display = []\n",
    "    \n",
    "    # Only deal with voters who participated in the March 2018 primary\n",
    "    # The `party_primary` column reflect the March 2018 election\n",
    "\n",
    "    df = df.assign(\n",
    "        voted = lambda x: x.primary_party.isnull() == False\n",
    "    ).query('voted')\n",
    "\n",
    "    # Make a dataframe of \"Families\" that voted in the primary\n",
    "    df_family = df.set_index([\n",
    "        'address',\n",
    "        'last_name'\n",
    "    ])[['primary_party']].assign(\n",
    "        # Family size is the number of voters with the same last name\n",
    "        # registered at an address\n",
    "        family_size = df.groupby([\n",
    "            'address',\n",
    "            'last_name'\n",
    "        ]).size()\n",
    "    # Filter for \"Families\" - multiple of same last name\n",
    "    ).query('family_size > 1').assign(\n",
    "        # Make a combination address-last name field for counting purposes\n",
    "        address_family = lambda x: x.index.get_level_values(0) + x.index.get_level_values(1)\n",
    "    )\n",
    "\n",
    "    data_to_display.append({\n",
    "        'Metric': 'Families',\n",
    "        'Value': '{:,}'.format(len(\n",
    "            # Count the distinct address-families\n",
    "            df_family.reset_index().address_family.unique()\n",
    "        ))\n",
    "    })\n",
    "\n",
    "    # Make a dataframe of \"Split-voting families\" - \"Families\" that voted in both primaries\n",
    "    df_split_family = df_family.join(\n",
    "        df.groupby([\n",
    "            'address',\n",
    "            'last_name'\n",
    "        ]).agg({\n",
    "            # Count the different parties the family voted in\n",
    "            'primary_party': lambda x: len(x.unique())\n",
    "        }).rename(\n",
    "            columns = {\n",
    "                'primary_party': 'name_party_count'\n",
    "            }\n",
    "        # Filter for \"Families\" that voted in both primaries (\"R\" and \"D\")\n",
    "        ).query('name_party_count == 2'),\n",
    "        how='inner'\n",
    "    ).join(\n",
    "        # Get the other columns from the full dataframe\n",
    "        df.set_index([\n",
    "            'address',\n",
    "            'last_name'\n",
    "        ]),\n",
    "        lsuffix='_',\n",
    "        rsuffix=''\n",
    "    ).reset_index().assign(\n",
    "        address_family = lambda x: x.address + x.last_name\n",
    "    )\n",
    "\n",
    "    df_split_family_total = len(\n",
    "        df_split_family.address_family.unique()\n",
    "    )\n",
    "\n",
    "    data_to_display.append({\n",
    "        'Metric': 'Split-vote families',\n",
    "        'Value': '{:,}'.format(\n",
    "            df_split_family_total\n",
    "        )\n",
    "    })\n",
    "\n",
    "    data_to_display.append({\n",
    "        'Metric': 'Split-vote percentage',\n",
    "        'Value': '{:.2%}'.format(\n",
    "            df_split_family_total / len(\n",
    "                df_family.address_family.unique()\n",
    "            )\n",
    "        )\n",
    "    })\n",
    "    \n",
    "    display(\n",
    "        pd.DataFrame(data_to_display).set_index('Metric')\n",
    "    )\n",
    "\n",
    "    display(\n",
    "        HTML(\n",
    "            '<p>Gender breakdown of voters in split-voting families</p>'\n",
    "        )\n",
    "    )\n",
    "    display(\n",
    "        pd.crosstab(\n",
    "            df_split_family.query(\n",
    "                'sex == \"F\" | sex == \"M\"'\n",
    "            )['primary_party'],\n",
    "            df_split_family.query(\n",
    "                'sex == \"F\" | sex == \"M\"'\n",
    "            ).sex\n",
    "        ).apply(\n",
    "            lambda x: ['{:.2%}'.format(a) for a in x / sum(x)], axis=1\n",
    "        )\n",
    "    )"
   ]
  },
  {
   "cell_type": "markdown",
   "metadata": {},
   "source": [
    "#### Travis County"
   ]
  },
  {
   "cell_type": "code",
   "execution_count": 3,
   "metadata": {},
   "outputs": [
    {
     "data": {
      "text/html": [
       "<div>\n",
       "<style>\n",
       "    .dataframe thead tr:only-child th {\n",
       "        text-align: right;\n",
       "    }\n",
       "\n",
       "    .dataframe thead th {\n",
       "        text-align: left;\n",
       "    }\n",
       "\n",
       "    .dataframe tbody tr th {\n",
       "        vertical-align: top;\n",
       "    }\n",
       "</style>\n",
       "<table border=\"1\" class=\"dataframe\">\n",
       "  <thead>\n",
       "    <tr style=\"text-align: right;\">\n",
       "      <th></th>\n",
       "      <th>Value</th>\n",
       "    </tr>\n",
       "    <tr>\n",
       "      <th>Metric</th>\n",
       "      <th></th>\n",
       "    </tr>\n",
       "  </thead>\n",
       "  <tbody>\n",
       "    <tr>\n",
       "      <th>Families</th>\n",
       "      <td>23,283</td>\n",
       "    </tr>\n",
       "    <tr>\n",
       "      <th>Split-vote families</th>\n",
       "      <td>1,777</td>\n",
       "    </tr>\n",
       "    <tr>\n",
       "      <th>Split-vote percentage</th>\n",
       "      <td>7.63%</td>\n",
       "    </tr>\n",
       "  </tbody>\n",
       "</table>\n",
       "</div>"
      ],
      "text/plain": [
       "                        Value\n",
       "Metric                       \n",
       "Families               23,283\n",
       "Split-vote families     1,777\n",
       "Split-vote percentage   7.63%"
      ]
     },
     "metadata": {},
     "output_type": "display_data"
    },
    {
     "data": {
      "text/html": [
       "<p>Gender breakdown of voters in split-voting families</p>"
      ],
      "text/plain": [
       "<IPython.core.display.HTML object>"
      ]
     },
     "metadata": {},
     "output_type": "display_data"
    },
    {
     "data": {
      "text/html": [
       "<div>\n",
       "<style>\n",
       "    .dataframe thead tr:only-child th {\n",
       "        text-align: right;\n",
       "    }\n",
       "\n",
       "    .dataframe thead th {\n",
       "        text-align: left;\n",
       "    }\n",
       "\n",
       "    .dataframe tbody tr th {\n",
       "        vertical-align: top;\n",
       "    }\n",
       "</style>\n",
       "<table border=\"1\" class=\"dataframe\">\n",
       "  <thead>\n",
       "    <tr style=\"text-align: right;\">\n",
       "      <th>sex</th>\n",
       "      <th>F</th>\n",
       "      <th>M</th>\n",
       "    </tr>\n",
       "    <tr>\n",
       "      <th>primary_party</th>\n",
       "      <th></th>\n",
       "      <th></th>\n",
       "    </tr>\n",
       "  </thead>\n",
       "  <tbody>\n",
       "    <tr>\n",
       "      <th>DEMO</th>\n",
       "      <td>69.89%</td>\n",
       "      <td>30.11%</td>\n",
       "    </tr>\n",
       "    <tr>\n",
       "      <th>REPB</th>\n",
       "      <td>28.50%</td>\n",
       "      <td>71.50%</td>\n",
       "    </tr>\n",
       "  </tbody>\n",
       "</table>\n",
       "</div>"
      ],
      "text/plain": [
       "sex                 F       M\n",
       "primary_party                \n",
       "DEMO           69.89%  30.11%\n",
       "REPB           28.50%  71.50%"
      ]
     },
     "metadata": {},
     "output_type": "display_data"
    }
   ],
   "source": [
    "process_county(\n",
    "    pd.read_csv(\n",
    "        'voter-reg-data/VoterRegOpenDataWithHistory.csv',\n",
    "        encoding='latin-1',\n",
    "        dtype='str'\n",
    "    ).assign(\n",
    "        address = lambda x: (x.MLADD1.astype(str) + ', ' + x.MLCITY.astype(str) + ', ' + x.MZIPCD.astype(str)).str.strip(),\n",
    "        primary_party = lambda x: x.P18PARTY,\n",
    "        last_name = lambda x: x.LSTNAM,\n",
    "        sex = lambda x: x.GENDER\n",
    "    )\n",
    ")"
   ]
  },
  {
   "cell_type": "markdown",
   "metadata": {},
   "source": [
    "### Williamson County"
   ]
  },
  {
   "cell_type": "code",
   "execution_count": 4,
   "metadata": {},
   "outputs": [
    {
     "data": {
      "text/html": [
       "<div>\n",
       "<style>\n",
       "    .dataframe thead tr:only-child th {\n",
       "        text-align: right;\n",
       "    }\n",
       "\n",
       "    .dataframe thead th {\n",
       "        text-align: left;\n",
       "    }\n",
       "\n",
       "    .dataframe tbody tr th {\n",
       "        vertical-align: top;\n",
       "    }\n",
       "</style>\n",
       "<table border=\"1\" class=\"dataframe\">\n",
       "  <thead>\n",
       "    <tr style=\"text-align: right;\">\n",
       "      <th></th>\n",
       "      <th>Value</th>\n",
       "    </tr>\n",
       "    <tr>\n",
       "      <th>Metric</th>\n",
       "      <th></th>\n",
       "    </tr>\n",
       "  </thead>\n",
       "  <tbody>\n",
       "    <tr>\n",
       "      <th>Families</th>\n",
       "      <td>16,131</td>\n",
       "    </tr>\n",
       "    <tr>\n",
       "      <th>Split-vote families</th>\n",
       "      <td>896</td>\n",
       "    </tr>\n",
       "    <tr>\n",
       "      <th>Split-vote percentage</th>\n",
       "      <td>5.55%</td>\n",
       "    </tr>\n",
       "  </tbody>\n",
       "</table>\n",
       "</div>"
      ],
      "text/plain": [
       "                        Value\n",
       "Metric                       \n",
       "Families               16,131\n",
       "Split-vote families       896\n",
       "Split-vote percentage   5.55%"
      ]
     },
     "metadata": {},
     "output_type": "display_data"
    },
    {
     "data": {
      "text/html": [
       "<p>Gender breakdown of voters in split-voting families</p>"
      ],
      "text/plain": [
       "<IPython.core.display.HTML object>"
      ]
     },
     "metadata": {},
     "output_type": "display_data"
    },
    {
     "data": {
      "text/html": [
       "<div>\n",
       "<style>\n",
       "    .dataframe thead tr:only-child th {\n",
       "        text-align: right;\n",
       "    }\n",
       "\n",
       "    .dataframe thead th {\n",
       "        text-align: left;\n",
       "    }\n",
       "\n",
       "    .dataframe tbody tr th {\n",
       "        vertical-align: top;\n",
       "    }\n",
       "</style>\n",
       "<table border=\"1\" class=\"dataframe\">\n",
       "  <thead>\n",
       "    <tr style=\"text-align: right;\">\n",
       "      <th>sex</th>\n",
       "      <th>F</th>\n",
       "      <th>M</th>\n",
       "    </tr>\n",
       "    <tr>\n",
       "      <th>primary_party</th>\n",
       "      <th></th>\n",
       "      <th></th>\n",
       "    </tr>\n",
       "  </thead>\n",
       "  <tbody>\n",
       "    <tr>\n",
       "      <th>D</th>\n",
       "      <td>71.88%</td>\n",
       "      <td>28.12%</td>\n",
       "    </tr>\n",
       "    <tr>\n",
       "      <th>R</th>\n",
       "      <td>30.76%</td>\n",
       "      <td>69.24%</td>\n",
       "    </tr>\n",
       "  </tbody>\n",
       "</table>\n",
       "</div>"
      ],
      "text/plain": [
       "sex                 F       M\n",
       "primary_party                \n",
       "D              71.88%  28.12%\n",
       "R              30.76%  69.24%"
      ]
     },
     "metadata": {},
     "output_type": "display_data"
    }
   ],
   "source": [
    "process_county(\n",
    "    pd.read_excel(\n",
    "        'voter-reg-data/20180507_CWDOB.xlsx',\n",
    "        dtype='str'\n",
    "    ).assign(\n",
    "        age = lambda x: x.birthdate.apply(lambda z: (pd.datetime.now().year - pd.to_datetime(z).year)),\n",
    "        address = lambda x: (x.streetnumber.astype(str) + ' ' +\n",
    "                             x.streetname + ' ' + x.streettype + ', ' +\n",
    "                             x.city.astype(str) + ', ' + x['zip'].astype(str)).str.strip(),\n",
    "        last_name = lambda x: x.lastname,\n",
    "        primary_party = lambda x: x['party_code2'].replace(\n",
    "            'nan', pd.np.nan\n",
    "        )\n",
    "    )\n",
    ")"
   ]
  },
  {
   "cell_type": "markdown",
   "metadata": {},
   "source": [
    "#### Hays County"
   ]
  },
  {
   "cell_type": "code",
   "execution_count": 5,
   "metadata": {},
   "outputs": [
    {
     "data": {
      "text/html": [
       "<div>\n",
       "<style>\n",
       "    .dataframe thead tr:only-child th {\n",
       "        text-align: right;\n",
       "    }\n",
       "\n",
       "    .dataframe thead th {\n",
       "        text-align: left;\n",
       "    }\n",
       "\n",
       "    .dataframe tbody tr th {\n",
       "        vertical-align: top;\n",
       "    }\n",
       "</style>\n",
       "<table border=\"1\" class=\"dataframe\">\n",
       "  <thead>\n",
       "    <tr style=\"text-align: right;\">\n",
       "      <th></th>\n",
       "      <th>Value</th>\n",
       "    </tr>\n",
       "    <tr>\n",
       "      <th>Metric</th>\n",
       "      <th></th>\n",
       "    </tr>\n",
       "  </thead>\n",
       "  <tbody>\n",
       "    <tr>\n",
       "      <th>Families</th>\n",
       "      <td>5,731</td>\n",
       "    </tr>\n",
       "    <tr>\n",
       "      <th>Split-vote families</th>\n",
       "      <td>377</td>\n",
       "    </tr>\n",
       "    <tr>\n",
       "      <th>Split-vote percentage</th>\n",
       "      <td>6.58%</td>\n",
       "    </tr>\n",
       "  </tbody>\n",
       "</table>\n",
       "</div>"
      ],
      "text/plain": [
       "                       Value\n",
       "Metric                      \n",
       "Families               5,731\n",
       "Split-vote families      377\n",
       "Split-vote percentage  6.58%"
      ]
     },
     "metadata": {},
     "output_type": "display_data"
    },
    {
     "data": {
      "text/html": [
       "<p>Gender breakdown of voters in split-voting families</p>"
      ],
      "text/plain": [
       "<IPython.core.display.HTML object>"
      ]
     },
     "metadata": {},
     "output_type": "display_data"
    },
    {
     "data": {
      "text/html": [
       "<div>\n",
       "<style>\n",
       "    .dataframe thead tr:only-child th {\n",
       "        text-align: right;\n",
       "    }\n",
       "\n",
       "    .dataframe thead th {\n",
       "        text-align: left;\n",
       "    }\n",
       "\n",
       "    .dataframe tbody tr th {\n",
       "        vertical-align: top;\n",
       "    }\n",
       "</style>\n",
       "<table border=\"1\" class=\"dataframe\">\n",
       "  <thead>\n",
       "    <tr style=\"text-align: right;\">\n",
       "      <th>sex</th>\n",
       "      <th>F</th>\n",
       "      <th>M</th>\n",
       "    </tr>\n",
       "    <tr>\n",
       "      <th>primary_party</th>\n",
       "      <th></th>\n",
       "      <th></th>\n",
       "    </tr>\n",
       "  </thead>\n",
       "  <tbody>\n",
       "    <tr>\n",
       "      <th>D</th>\n",
       "      <td>70.36%</td>\n",
       "      <td>29.64%</td>\n",
       "    </tr>\n",
       "    <tr>\n",
       "      <th>R</th>\n",
       "      <td>30.36%</td>\n",
       "      <td>69.64%</td>\n",
       "    </tr>\n",
       "  </tbody>\n",
       "</table>\n",
       "</div>"
      ],
      "text/plain": [
       "sex                 F       M\n",
       "primary_party                \n",
       "D              70.36%  29.64%\n",
       "R              30.36%  69.64%"
      ]
     },
     "metadata": {},
     "output_type": "display_data"
    }
   ],
   "source": [
    "process_county(\n",
    "    pd.read_excel(\n",
    "        'voter-reg-data/Hays-May7.xlsx',\n",
    "        dtype='str'\n",
    "    ).assign(\n",
    "        last_name = lambda x: x['FULL NAME'].str.split(\n",
    "            ','\n",
    "        ).str.get(0),\n",
    "        age = lambda x: x.birthdate.apply(lambda z: (pd.datetime.now().year - pd.to_datetime(z).year)),\n",
    "        address = lambda x: (x.streetnumber.astype(str) + ' ' +\n",
    "                             x.streetname + ' ' + x.streettype + ', ' +\n",
    "                             x.city.astype(str) + ', ' + x['zip'].astype(str)).str.strip(),\n",
    "        primary_party = lambda x: x['party_code1'].replace('nan', pd.np.nan)\n",
    "    )\n",
    ")"
   ]
  },
  {
   "cell_type": "code",
   "execution_count": null,
   "metadata": {},
   "outputs": [],
   "source": []
  }
 ],
 "metadata": {
  "kernelspec": {
   "display_name": "Python 3",
   "language": "python",
   "name": "python3"
  },
  "language_info": {
   "codemirror_mode": {
    "name": "ipython",
    "version": 3
   },
   "file_extension": ".py",
   "mimetype": "text/x-python",
   "name": "python",
   "nbconvert_exporter": "python",
   "pygments_lexer": "ipython3",
   "version": "3.6.1"
  }
 },
 "nbformat": 4,
 "nbformat_minor": 2
}
